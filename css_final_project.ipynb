{
 "cells": [
  {
   "cell_type": "markdown",
   "id": "680ac1fd",
   "metadata": {},
   "source": [
    "# Exploratory Data Analysis of Telegram Messages"
   ]
  },
  {
   "cell_type": "markdown",
   "id": "2bad5685",
   "metadata": {},
   "source": [
    "Do not forget to enter the path to your data and your telegram ID. Also, any question section can be customized in any way to reach appropriate results."
   ]
  },
  {
   "cell_type": "code",
   "execution_count": null,
   "id": "7e65e37b",
   "metadata": {},
   "outputs": [],
   "source": [
    "# install dependencies\n",
    "# %pip install polyglot pyicu pycld2\n",
    "# %pip install emoji==1.6.3\n",
    "# %pip install text2emotion\n",
    "# %pip install googletrans==3.1.0a0"
   ]
  },
  {
   "cell_type": "code",
   "execution_count": null,
   "id": "75caeedb",
   "metadata": {},
   "outputs": [],
   "source": [
    "import pandas as pd\n",
    "\n",
    "# import and setup polyglot (lang detector)\n",
    "from polyglot.detect import Detector\n",
    "from polyglot.detect.base import logger as polyglot_logger\n",
    "polyglot_logger.setLevel(\"ERROR\")\n",
    "\n",
    "# import translator\n",
    "from googletrans import Translator\n",
    "\n",
    "# emotion anaylzer\n",
    "import text2emotion as te\n",
    "\n",
    "# import nltk lib\n",
    "from nltk.tokenize import word_tokenize\n",
    "from nltk.corpus import stopwords\n",
    "\n",
    "# standard libs\n",
    "import json\n",
    "import ast\n",
    "import string\n",
    "from datetime import datetime, date, time"
   ]
  },
  {
   "cell_type": "code",
   "execution_count": null,
   "id": "d076df7c",
   "metadata": {},
   "outputs": [],
   "source": [
    "DIALOGS_MERGED_DATA_PATH = \"<PATH_TO_DATA>/dialogs_data_all.csv\"\n",
    "DIALOGS_META_MERGED_DATA_PATH = \"<PATH_TO_DATA>/dialogs_users_all.csv\""
   ]
  },
  {
   "cell_type": "code",
   "execution_count": null,
   "id": "6d0eddab",
   "metadata": {},
   "outputs": [],
   "source": [
    "df = pd.read_csv(DIALOGS_MERGED_DATA_PATH)\n",
    "df_meta = pd.read_csv(DIALOGS_META_MERGED_DATA_PATH)"
   ]
  },
  {
   "cell_type": "markdown",
   "id": "965d42ec",
   "metadata": {},
   "source": [
    "# General Info"
   ]
  },
  {
   "cell_type": "markdown",
   "id": "38c6b9fc",
   "metadata": {},
   "source": [
    "Total number of pulled messages:"
   ]
  },
  {
   "cell_type": "code",
   "execution_count": null,
   "id": "4672e8ce",
   "metadata": {},
   "outputs": [],
   "source": [
    "df['id'].count()"
   ]
  },
  {
   "cell_type": "markdown",
   "id": "7942d108",
   "metadata": {},
   "source": [
    "Get number of dialogs:"
   ]
  },
  {
   "cell_type": "code",
   "execution_count": null,
   "id": "f92f7859",
   "metadata": {},
   "outputs": [],
   "source": [
    "df_meta['dialog_id'].nunique()"
   ]
  },
  {
   "cell_type": "markdown",
   "id": "9bf14e49",
   "metadata": {},
   "source": [
    "Telegram ID:"
   ]
  },
  {
   "cell_type": "code",
   "execution_count": null,
   "id": "5f16ab2d",
   "metadata": {},
   "outputs": [],
   "source": [
    "user_id = '<telegram ID>'"
   ]
  },
  {
   "cell_type": "markdown",
   "id": "b850fc14",
   "metadata": {},
   "source": [
    "# Data pre-processing"
   ]
  },
  {
   "cell_type": "code",
   "execution_count": null,
   "id": "4a650aee",
   "metadata": {},
   "outputs": [],
   "source": [
    "# convert date\n",
    "df['date']= df['date'].apply(pd.to_datetime)\n",
    "df['dialog_id'] = df['dialog_id'].astype(str)"
   ]
  },
  {
   "cell_type": "markdown",
   "id": "4a88eafc",
   "metadata": {},
   "source": [
    "# Meta info analysis"
   ]
  },
  {
   "cell_type": "markdown",
   "id": "67bd4f34",
   "metadata": {},
   "source": [
    "## 1. What are the most common languages of chat names?"
   ]
  },
  {
   "cell_type": "code",
   "execution_count": null,
   "id": "9dcb0712",
   "metadata": {},
   "outputs": [],
   "source": [
    "def detect_lang(text: str):\n",
    "    try:\n",
    "        return Detector(text).languages[0].name\n",
    "    except Exception:\n",
    "        return 'undefined'\n",
    "\n",
    "df_meta.drop_duplicates(subset=['dialog_id'])['name'].apply(detect_lang).value_counts().head(7).plot.bar(\n",
    "    title='What language is the nickname written in?',\n",
    "    xlabel='Language',\n",
    "    ylabel='Number'\n",
    ")"
   ]
  },
  {
   "cell_type": "markdown",
   "id": "3e5d1807",
   "metadata": {},
   "source": [
    "## 2. Total number of group and private chats"
   ]
  },
  {
   "cell_type": "code",
   "execution_count": null,
   "id": "b81eaa74",
   "metadata": {},
   "outputs": [],
   "source": [
    "df_meta.groupby('dialog_id').first()['type'].value_counts().plot.pie(\n",
    "    autopct='%1.0f%%',\n",
    "    ylabel=None,\n",
    "    title=\"Proportion of chat types\"\n",
    ")"
   ]
  },
  {
   "cell_type": "markdown",
   "id": "fc68d55c",
   "metadata": {},
   "source": [
    "## 3. Which chats have the largest number of \"familiar\" people?"
   ]
  },
  {
   "cell_type": "code",
   "execution_count": null,
   "id": "c39a2b9f",
   "metadata": {},
   "outputs": [],
   "source": [
    "chat_ids = df_meta['dialog_id'].unique()\n",
    "condition = chat_ids > 0\n",
    "familiar_ppl = chat_ids[condition]"
   ]
  },
  {
   "cell_type": "code",
   "execution_count": null,
   "id": "2e59cce0",
   "metadata": {},
   "outputs": [],
   "source": [
    "df_meta['user_id'] = df_meta['users'].apply(lambda x: ast.literal_eval(x)['user_id'])"
   ]
  },
  {
   "cell_type": "code",
   "execution_count": null,
   "id": "c7c04a71",
   "metadata": {},
   "outputs": [],
   "source": [
    "df_meta['is_familiar'] = df_meta['user_id'].apply(lambda x: x in familiar_ppl)\n",
    "member_data = df_meta[df_meta['dialog_id'] < 0].groupby('dialog_id')['is_familiar'].agg(['sum', 'count']).sort_values(\n",
    "    by='sum', ascending=False\n",
    ").head(10).rename(columns={'sum': 'Familiar members', 'count': 'Total members'})\n",
    "\n",
    "\n",
    "graph = member_data.join(df_meta.set_index('dialog_id').groupby('dialog_id').first()['name'], on='dialog_id', how='left')\n",
    "\n",
    "graph.plot.bar(x='name', title='Number of Familiar members in group chats', ylabel='members')"
   ]
  },
  {
   "cell_type": "markdown",
   "id": "74818657",
   "metadata": {},
   "source": [
    "## 4. Which group chats has the most members?"
   ]
  },
  {
   "cell_type": "code",
   "execution_count": null,
   "id": "88789a50",
   "metadata": {},
   "outputs": [],
   "source": [
    "top_n = 5\n",
    "df_meta[df_meta['dialog_id'] < 0].groupby('dialog_id').agg({'name': 'first', 'type': 'count'}).sort_values(\n",
    "    by='type', ascending=False\n",
    ").head(top_n).plot.bar(\n",
    "    title=f'Top {top_n} chats by number of members', x='name', ylabel='Number of members', legend=False\n",
    ")"
   ]
  },
  {
   "cell_type": "markdown",
   "id": "4581fece",
   "metadata": {},
   "source": [
    "## 5. How many people are in all the group chats?"
   ]
  },
  {
   "cell_type": "code",
   "execution_count": null,
   "id": "89998294",
   "metadata": {},
   "outputs": [],
   "source": [
    "# let's count all chat members\n",
    "len(df_meta[df_meta['type'] == 'Group'])"
   ]
  },
  {
   "cell_type": "code",
   "execution_count": null,
   "id": "95de024e",
   "metadata": {},
   "outputs": [],
   "source": [
    "# but how many UNIQUE members are there?\n",
    "len(df_meta[df_meta['type'] == 'Group']['user_id'].unique())"
   ]
  },
  {
   "cell_type": "markdown",
   "id": "451dca5a",
   "metadata": {},
   "source": [
    "# Messages analysis"
   ]
  },
  {
   "cell_type": "markdown",
   "id": "25eb8d66",
   "metadata": {},
   "source": [
    "## 1. What is the distribution of language usage in the sent messages?"
   ]
  },
  {
   "cell_type": "code",
   "execution_count": null,
   "id": "fde02077",
   "metadata": {},
   "outputs": [],
   "source": [
    "sent_data = df[df['from_id'].str.contains(user_id, na=False)]\n",
    "sent_data['lang'] = sent_data['message'].apply(detect_lang)"
   ]
  },
  {
   "cell_type": "code",
   "execution_count": null,
   "id": "a12ef93a",
   "metadata": {},
   "outputs": [],
   "source": [
    "# pass your own languages to analyze their distribution\n",
    "ru_sent = sent_data[sent_data['lang'] == 'Russian'].groupby(sent_data.date.dt.date)['id'].count()\n",
    "ukr_sent = sent_data[sent_data['lang'] == 'Ukrainian'].groupby(sent_data.date.dt.date)['id'].count()\n",
    "\n",
    "ru_sent.plot(\n",
    "    figsize=(10,5), label='russian', title='Language usage distribution in sent messages',\n",
    "    xlabel='Year', ylabel='Number of messages'\n",
    ")\n",
    "ax = ukr_sent.plot(label='Ukrainian')\n",
    "ax.legend(loc='upper left')"
   ]
  },
  {
   "cell_type": "markdown",
   "id": "fc174fc0",
   "metadata": {},
   "source": [
    "## 2. What are the proportions of personal pronouns in sent messages?"
   ]
  },
  {
   "cell_type": "code",
   "execution_count": null,
   "id": "27b5b40a",
   "metadata": {},
   "outputs": [],
   "source": [
    "sent_messages = df[df['from_id'].str.contains(user_id, na=False)]['message']\n",
    "sent_tokens = sent_messages.dropna().apply(lambda msg: word_tokenize(msg)).explode()"
   ]
  },
  {
   "cell_type": "code",
   "execution_count": null,
   "id": "fb62e43b",
   "metadata": {},
   "outputs": [],
   "source": [
    "pronouns = ['я', 'ти', 'ми', 'він', 'вони', 'вона', 'воно']\n",
    "map_pronouns = {\n",
    "     'мы': 'ми', 'она': 'вона', 'он': 'він', 'они': 'вони', 'оно': 'воно', 'ты': 'ти'\n",
    "}\n",
    "\n",
    "for _from, _to in map_pronouns.items():\n",
    "    sent_tokens.replace(_from, _to, inplace=True)"
   ]
  },
  {
   "cell_type": "code",
   "execution_count": null,
   "id": "5426c9a1",
   "metadata": {},
   "outputs": [],
   "source": [
    "sent_tokens.value_counts()[pronouns].plot.pie(\n",
    "    autopct='%1.0f%%',\n",
    "    title='Proportions of personal pronouns in sent messages',\n",
    "    ylabel=None\n",
    ")"
   ]
  },
  {
   "cell_type": "markdown",
   "id": "eb0afeb2",
   "metadata": {},
   "source": [
    "## 3. Distribution of using of words 'war', 'invasion'"
   ]
  },
  {
   "cell_type": "code",
   "execution_count": null,
   "id": "5c26a506",
   "metadata": {
    "scrolled": false
   },
   "outputs": [],
   "source": [
    "words = ['війн.{1,2}', 'войн.{1,2}', 'war', 'вторгненн.{1,2}', 'вторжени.{1,2}']\n",
    "ax = df[df['message'].str.contains('|'.join(words), na=False)].groupby(sent_data.date.dt.date)['id'].count().plot(\n",
    "    figsize=(10,5), title='Distribution of using of words war, invasion etc.',\n",
    "    xlabel='Year', ylabel='Number of messages', label='War-like word usage'\n",
    ")\n",
    "ax.scatter('2022-02-24', 1, color='red', zorder=100, label='24 February 2022')\n",
    "ax.legend(loc='upper left')"
   ]
  },
  {
   "cell_type": "markdown",
   "id": "746391b3",
   "metadata": {},
   "source": [
    "## 4. Distribution of number of words in sent messages"
   ]
  },
  {
   "cell_type": "code",
   "execution_count": null,
   "id": "a28f5d6f",
   "metadata": {},
   "outputs": [],
   "source": [
    "sent_messages = df[df['from_id'].str.contains(user_id, na=False)]['message']\n",
    "print(f'Total number of sent messages: {len(sent_messages)}')\n",
    "\n",
    "tokenized_messages = sent_messages.dropna().apply(lambda msg: word_tokenize(msg))\n",
    "tokenized_messages.apply(\n",
    "    lambda tokens: len(list(filter(lambda t: t not in string.punctuation, tokens)))\n",
    ").value_counts().sort_index().head(20).plot.bar(\n",
    "    title='Distribution of number of words in sent messages',\n",
    "    xlabel='Word count', ylabel='Number of messages'\n",
    ")\n"
   ]
  },
  {
   "cell_type": "markdown",
   "id": "48b455a7",
   "metadata": {},
   "source": [
    "## 5. The most used words in SENT messages"
   ]
  },
  {
   "cell_type": "code",
   "execution_count": null,
   "id": "21fafa4e",
   "metadata": {},
   "outputs": [],
   "source": [
    "import re\n",
    "\n",
    "emoji_pattern = re.compile(\"[^\"\n",
    "        u\"\\U0001F600-\\U0001F64F\"  # emoticons\n",
    "        u\"\\U0001F300-\\U0001F5FF\"  # symbols & pictographs\n",
    "        u\"\\U0001F680-\\U0001F6FF\"  # transport & map symbols\n",
    "        u\"\\U0001F1E0-\\U0001F1FF\"  # flags (iOS)\n",
    "        u\"\\U00002500-\\U00002BEF\"  # chinese char\n",
    "        u\"\\U00002702-\\U000027B0\"\n",
    "        u\"\\U00002702-\\U000027B0\"\n",
    "        u\"\\U000024C2-\\U0001F251\"\n",
    "        u\"\\U0001f926-\\U0001f937\"\n",
    "        u\"\\U00010000-\\U0010ffff\"\n",
    "        u\"\\u2640-\\u2642\" \n",
    "        u\"\\u2600-\\u2B55\"\n",
    "        u\"\\u200d\"\n",
    "        u\"\\u23cf\"\n",
    "        u\"\\u23e9\"\n",
    "        u\"\\u231a\"\n",
    "        u\"\\ufe0f\"  # dingbats\n",
    "        u\"\\u3030\"\n",
    "        u\"\\u1F32F\"\n",
    "        u\"\\u1F44D\"\n",
    "        \"]+\", re.UNICODE)\n",
    "\n",
    "def process_tokens(tokens):\n",
    "    return tokens.str.lower().apply(lambda t: t.replace('ё', 'е')).filter(regex=emoji_pattern)\n",
    "\n",
    "def most_used_words(messages, filter_tokens, n=10):\n",
    "    tokens = messages.dropna().apply(lambda msg: word_tokenize(msg)).explode()\n",
    "    \n",
    "    processed = process_tokens(tokens)\n",
    "    \n",
    "    return processed[~processed.isin(filter_tokens)].value_counts().head(n)"
   ]
  },
  {
   "cell_type": "code",
   "execution_count": null,
   "id": "b88d2587",
   "metadata": {},
   "outputs": [],
   "source": [
    "sent_messages = df[df['from_id'].str.contains(user_id, na=False)]['message']\n",
    "sent_tokens = sent_messages.dropna().apply(lambda msg: word_tokenize(msg)).explode()"
   ]
  },
  {
   "cell_type": "code",
   "execution_count": null,
   "id": "9d90c6d6",
   "metadata": {},
   "outputs": [],
   "source": [
    "# filter out tokens\n",
    "extra = ['...', \"''\", \"``\", '—', 'это', '«', '»', 'https', 'http', '👍']\n",
    "stop_words_ukr = ['це', 'з', 'і', 'та', 'що', 'шо', 'як', 'але', 'чи', 'бо', 'й']\n",
    "stop_tokens = list(string.punctuation) + stopwords.words('english') + stopwords.words('russian') + stop_words_ukr + extra"
   ]
  },
  {
   "cell_type": "code",
   "execution_count": null,
   "id": "1e25def5",
   "metadata": {},
   "outputs": [],
   "source": [
    "print(f'Total number of sent tokens: {len(sent_tokens)}')\n",
    "print(f'Number of unique sent tokens: {len(sent_tokens.unique())}')\n",
    "\n",
    "most_used_words(sent_messages, stop_tokens, 20).plot.bar(\n",
    "    title='The most used words in sent messages',\n",
    "    ylabel='Number of words'\n",
    ")"
   ]
  },
  {
   "cell_type": "markdown",
   "id": "967daeab",
   "metadata": {},
   "source": [
    "## 6. The most used words in all chats"
   ]
  },
  {
   "cell_type": "code",
   "execution_count": null,
   "id": "7c709b56",
   "metadata": {},
   "outputs": [],
   "source": [
    "most_used_words(df['message'].dropna(), stop_tokens, 20).plot.bar(\n",
    "    title='The most used words in all chats',\n",
    "    ylabel='Number of words'\n",
    ")"
   ]
  },
  {
   "cell_type": "markdown",
   "id": "28d9c11c",
   "metadata": {},
   "source": [
    "## 7. The most used words in SENT messages after 24 February"
   ]
  },
  {
   "cell_type": "code",
   "execution_count": null,
   "id": "88a9cebe",
   "metadata": {},
   "outputs": [],
   "source": [
    "sent_messages_after_24 = df[(df['from_id'].str.contains(user_id, na=False)) & (df['date'] > '2022-02-24')]['message']\n",
    "print(f'Number of sent messages after 24.02.2022: {len(sent_messages_after_24)}')"
   ]
  },
  {
   "cell_type": "code",
   "execution_count": null,
   "id": "4972156e",
   "metadata": {},
   "outputs": [],
   "source": [
    "most_used_words(sent_messages_after_24, stop_tokens, 20).plot.bar(\n",
    "    title='The most used words after 24.02.2022 in sent messages',\n",
    "    ylabel='Number of words'\n",
    ")"
   ]
  },
  {
   "cell_type": "markdown",
   "id": "0300e19d",
   "metadata": {},
   "source": [
    "## 8. Proportion of different message types (will be used in h/w #6)"
   ]
  },
  {
   "cell_type": "code",
   "execution_count": null,
   "id": "9dfae6e9",
   "metadata": {},
   "outputs": [],
   "source": [
    "df['type'].value_counts().plot.pie(\n",
    "    autopct='%1.0f%%',\n",
    "    title='Proportion of different message types in sent messages',\n",
    "    ylabel=None\n",
    ")"
   ]
  },
  {
   "cell_type": "markdown",
   "id": "8c3fa127",
   "metadata": {},
   "source": [
    "## 9. Proportion of different message types in SENT messages"
   ]
  },
  {
   "cell_type": "code",
   "execution_count": null,
   "id": "e07939b3",
   "metadata": {},
   "outputs": [],
   "source": [
    "df[df['from_id'].str.contains(user_id, na=False)]['type'].value_counts().plot.pie(\n",
    "    autopct='%1.0f%%',\n",
    "    title='Proportion of different message types',\n",
    "    ylabel=None\n",
    ")"
   ]
  },
  {
   "cell_type": "markdown",
   "id": "928e7431",
   "metadata": {},
   "source": [
    "## 10. What emotions were in the messages on February 24, 2022?"
   ]
  },
  {
   "cell_type": "code",
   "execution_count": null,
   "id": "4a798fa9",
   "metadata": {},
   "outputs": [],
   "source": [
    "translator = Translator()"
   ]
  },
  {
   "cell_type": "code",
   "execution_count": null,
   "id": "7fe6f6ea",
   "metadata": {},
   "outputs": [],
   "source": [
    "chats = df[df['dialog_id'].astype(int) > 0]\n",
    "emotions = chats[chats['date'].dt.date == date(2022, 2, 23)]['message'].dropna().apply(\n",
    "    lambda msg: te.get_emotion(translator.translate(msg, src='uk', dest='en').text)\n",
    ")"
   ]
  },
  {
   "cell_type": "code",
   "execution_count": null,
   "id": "029c08b3",
   "metadata": {},
   "outputs": [],
   "source": [
    "emotions.apply(pd.Series).mean().plot.pie(\n",
    "    autopct='%1.0f%%',\n",
    "    title='Proportion of emotions in messages on February 23, 2022',\n",
    "    ylabel=None\n",
    ")"
   ]
  },
  {
   "cell_type": "code",
   "execution_count": null,
   "id": "827d79bb",
   "metadata": {},
   "outputs": [],
   "source": [
    "chats = df[df['dialog_id'].astype(int) > 0]\n",
    "emotions = chats[chats['date'].dt.date == date(2022, 2, 24)]['message'].dropna().apply(\n",
    "    lambda msg: te.get_emotion(translator.translate(msg, src='uk', dest='en').text)\n",
    ")"
   ]
  },
  {
   "cell_type": "code",
   "execution_count": null,
   "id": "f2dee0ef",
   "metadata": {
    "scrolled": false
   },
   "outputs": [],
   "source": [
    "emotions.apply(pd.Series).mean().plot.pie(\n",
    "    autopct='%1.0f%%',\n",
    "    title='Proportion of emotions in messages on February 24, 2022',\n",
    "    ylabel=None\n",
    ")"
   ]
  },
  {
   "cell_type": "markdown",
   "id": "05d75667",
   "metadata": {},
   "source": [
    "## 11. How are my sent messages distributed throughout the day?"
   ]
  },
  {
   "cell_type": "code",
   "execution_count": null,
   "id": "7e3fd01b",
   "metadata": {
    "scrolled": true
   },
   "outputs": [],
   "source": [
    "df[df['from_id'].str.contains(user_id, na=False)]['date'].apply(\n",
    "    lambda d: d.time().replace(second=0)\n",
    ").value_counts().sort_index().plot(\n",
    "    figsize=(10,5), title='Message distribution during the day',\n",
    "    xlabel='Time', ylabel='Number of messages',\n",
    "    xticks=[time(i, 0, 0) for i in range(0, 24, 2)] + [time(23, 59, 0)]\n",
    ")"
   ]
  },
  {
   "cell_type": "markdown",
   "id": "a7cc3ac5",
   "metadata": {},
   "source": [
    "## 12. On which days were the most messages in private chats?"
   ]
  },
  {
   "cell_type": "code",
   "execution_count": null,
   "id": "548ed18f",
   "metadata": {},
   "outputs": [],
   "source": [
    "msg_per_day = df[df['dialog_id'].astype(int) > 0].apply(\n",
    "    lambda x: x.date.date(), axis=1\n",
    ").value_counts().sort_values(ascending=False).head(10)\n",
    "msg_per_day"
   ]
  },
  {
   "cell_type": "markdown",
   "id": "4fa859b9",
   "metadata": {},
   "source": [
    "## 13. What emotions did messages have on the most active days?"
   ]
  },
  {
   "cell_type": "code",
   "execution_count": null,
   "id": "212dbf98",
   "metadata": {},
   "outputs": [],
   "source": [
    "chats = df[df['dialog_id'].astype(int) > 0]"
   ]
  },
  {
   "cell_type": "code",
   "execution_count": null,
   "id": "dc38b99b",
   "metadata": {},
   "outputs": [],
   "source": [
    "from googletrans import Translator\n",
    "translator = Translator()"
   ]
  },
  {
   "cell_type": "code",
   "execution_count": null,
   "id": "fd9fed2d",
   "metadata": {},
   "outputs": [],
   "source": [
    "emotions_on_day = {}\n",
    "for dt in msg_per_day.index[0:3]:\n",
    "    emotions_on_day[dt] = chats[chats['date'].dt.date == dt]['message'].dropna().apply(\n",
    "        lambda msg: te.get_emotion(translator.translate(msg, src='uk', dest='en').text)\n",
    "    )\n",
    "    print(f'Emotions per {dt}') # for checking progress"
   ]
  },
  {
   "cell_type": "code",
   "execution_count": null,
   "id": "1b4cb140",
   "metadata": {
    "scrolled": true
   },
   "outputs": [],
   "source": [
    "list(emotions_on_day.values())[0].apply(pd.Series).mean().plot.pie(\n",
    "    autopct='%1.0f%%',\n",
    "    title=f'Proportion of emotions in messages on 11 November, 2020',\n",
    "    ylabel=None\n",
    ")"
   ]
  },
  {
   "cell_type": "code",
   "execution_count": null,
   "id": "164be58d",
   "metadata": {},
   "outputs": [],
   "source": [
    "list(emotions_on_day.values())[1].apply(pd.Series).mean().plot.pie(\n",
    "    autopct='%1.0f%%',\n",
    "    title=f'Proportion of emotions in messages on 15 September, 2019',\n",
    "    ylabel=None\n",
    ")"
   ]
  },
  {
   "cell_type": "code",
   "execution_count": null,
   "id": "a92ab4a4",
   "metadata": {
    "scrolled": true
   },
   "outputs": [],
   "source": [
    "list(emotions_on_day.values())[2].apply(pd.Series).mean().plot.pie(\n",
    "    autopct='%1.0f%%',\n",
    "    title=f'Proportion of emotions in messages on 23 September, 2019',\n",
    "    ylabel=None\n",
    ")"
   ]
  },
  {
   "cell_type": "markdown",
   "id": "4a1743e3",
   "metadata": {},
   "source": [
    "# Merged data analysis"
   ]
  },
  {
   "cell_type": "code",
   "execution_count": null,
   "id": "61fdec63",
   "metadata": {},
   "outputs": [],
   "source": [
    "chats_meta = df_meta[['dialog_id', 'name']].drop_duplicates()\n",
    "personal_chats = df[df['dialog_id'].astype(int) > 0].astype({'dialog_id': 'int'}).merge(chats_meta)\n",
    "group_chats = df[df['dialog_id'].astype(int) < 0].astype({'dialog_id': 'int'}).merge(chats_meta)\n",
    "all_chats = df.astype({'dialog_id': 'int'}).merge(chats_meta)"
   ]
  },
  {
   "cell_type": "markdown",
   "id": "6a2978c5",
   "metadata": {},
   "source": [
    "## 1. Chats with which PEOPLE have the most text messages?"
   ]
  },
  {
   "cell_type": "code",
   "execution_count": null,
   "id": "9de7c901",
   "metadata": {
    "scrolled": false
   },
   "outputs": [],
   "source": [
    "personal_chats[personal_chats['type'] == 'text'].groupby('name')['type'].count().sort_values(\n",
    "    ascending=False\n",
    ").head(5).plot.bar(\n",
    "    title='Number of text messages in chat', ylabel='Number of text messages'\n",
    ")"
   ]
  },
  {
   "cell_type": "markdown",
   "id": "7490fbe5",
   "metadata": {},
   "source": [
    "## 2. Chats with which PEOPLE have the most audio messages?"
   ]
  },
  {
   "cell_type": "code",
   "execution_count": null,
   "id": "e65ea0e6",
   "metadata": {
    "scrolled": false
   },
   "outputs": [],
   "source": [
    "personal_chats[personal_chats['type'] == 'voice'].groupby('name')['type'].count().sort_values(\n",
    "    ascending=False\n",
    ").head(5).plot.bar(\n",
    "    title='Number of audio messages in chat', ylabel='Number of audio'\n",
    ")"
   ]
  },
  {
   "cell_type": "markdown",
   "id": "caa858e1",
   "metadata": {},
   "source": [
    "## 3. Chats with which PEOPLE have the most video messages?"
   ]
  },
  {
   "cell_type": "code",
   "execution_count": null,
   "id": "3ed3fa08",
   "metadata": {
    "scrolled": true
   },
   "outputs": [],
   "source": [
    "personal_chats[personal_chats['type'] == 'video'].groupby('name')['type'].count().sort_values(\n",
    "    ascending=False\n",
    ").head(5).plot.bar(\n",
    "    title='Number of video messages in chats', ylabel='Number of videos'\n",
    ")"
   ]
  },
  {
   "cell_type": "markdown",
   "id": "f4845f18",
   "metadata": {},
   "source": [
    "## 4. Which GROUP chats have the most sticker messages?"
   ]
  },
  {
   "cell_type": "code",
   "execution_count": null,
   "id": "2ec4d066",
   "metadata": {
    "scrolled": false
   },
   "outputs": [],
   "source": [
    "group_chats[group_chats['type'] == 'sticker'].groupby('name')['type'].count().sort_values(\n",
    "    ascending=False\n",
    ").head(5).plot.bar(\n",
    "    title='Number of sticker messages in group chats', ylabel='Number of stickers'\n",
    ")"
   ]
  },
  {
   "cell_type": "markdown",
   "id": "7473d015",
   "metadata": {},
   "source": [
    "## 5. In what proportion do my interlocutors use pronouns?"
   ]
  },
  {
   "cell_type": "code",
   "execution_count": null,
   "id": "2f1e9da0",
   "metadata": {},
   "outputs": [],
   "source": [
    "pronouns = ['я', 'ти', 'ми', 'він', 'вони', 'вона', 'воно']\n",
    "map_pronouns = {\n",
    "     'мы': 'ми', 'она': 'вона', 'он': 'він', 'они': 'вони', 'оно': 'воно', 'ты': 'ти'\n",
    "}\n",
    "\n",
    "def count_pronouns(tokens):\n",
    "    _t = [map_pronouns[t] if t in map_pronouns else t for t in tokens]\n",
    "    return pd.Series([_t.count(pronoun) for pronoun in pronouns], index=pronouns)\n",
    "\n",
    "pronouns_count = all_chats[all_chats['to_id'] == user_id].dropna(subset=['message']).apply(\n",
    "    lambda msg: count_pronouns(word_tokenize(msg['message'])), axis=1\n",
    ")"
   ]
  },
  {
   "cell_type": "code",
   "execution_count": null,
   "id": "f8ad7b61",
   "metadata": {},
   "outputs": [],
   "source": [
    "pronouns_data = all_chats.merge(pronouns_count, left_index=True, right_index=True).groupby('name')[pronouns].sum()\n",
    "pronouns_data['total'] = pronouns_data.sum(axis=1)\n",
    "pronouns_data.sort_values(by='total', ascending=False).head(10)[pronouns].plot.bar(\n",
    "    stacked=True, title='Proportion of pronouns in my interlocutors messages',\n",
    "    ylabel='Pronoun frequency', figsize=(5, 7)\n",
    ")"
   ]
  }
 ],
 "metadata": {
  "kernelspec": {
   "display_name": "Python 3 (ipykernel)",
   "language": "python",
   "name": "python3"
  },
  "language_info": {
   "codemirror_mode": {
    "name": "ipython",
    "version": 3
   },
   "file_extension": ".py",
   "mimetype": "text/x-python",
   "name": "python",
   "nbconvert_exporter": "python",
   "pygments_lexer": "ipython3",
   "version": "3.10.6"
  }
 },
 "nbformat": 4,
 "nbformat_minor": 5
}
